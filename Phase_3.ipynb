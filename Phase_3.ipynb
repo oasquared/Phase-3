{
  "nbformat": 4,
  "nbformat_minor": 0,
  "metadata": {
    "colab": {
      "provenance": [],
      "authorship_tag": "ABX9TyPpyqyjJqzzeDK8gEBC4wnR",
      "include_colab_link": true
    },
    "kernelspec": {
      "name": "python3",
      "display_name": "Python 3"
    },
    "language_info": {
      "name": "python"
    }
  },
  "cells": [
    {
      "cell_type": "markdown",
      "metadata": {
        "id": "view-in-github",
        "colab_type": "text"
      },
      "source": [
        "<a href=\"https://colab.research.google.com/github/oasquared/Phase-3/blob/main/Phase_3.ipynb\" target=\"_parent\"><img src=\"https://colab.research.google.com/assets/colab-badge.svg\" alt=\"Open In Colab\"/></a>"
      ]
    },
    {
      "cell_type": "code",
      "execution_count": null,
      "metadata": {
        "id": "Vqa_xyAsSRVX"
      },
      "outputs": [],
      "source": []
    },
    {
      "cell_type": "markdown",
      "source": [
        "This is phase-3"
      ],
      "metadata": {
        "id": "ebZ_cP9BSjxj"
      }
    },
    {
      "cell_type": "markdown",
      "source": [
        "First Google Colab Tutorial"
      ],
      "metadata": {
        "id": "IiymDMd-W7fG"
      }
    }
  ]
}